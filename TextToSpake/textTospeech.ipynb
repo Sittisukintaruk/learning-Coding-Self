{
 "cells": [
  {
   "cell_type": "code",
   "execution_count": 1,
   "metadata": {},
   "outputs": [],
   "source": [
    "from IPython.display import Audio"
   ]
  },
  {
   "cell_type": "code",
   "execution_count": 2,
   "metadata": {},
   "outputs": [],
   "source": [
    "import gtts\n",
    "from gtts import gTTS   "
   ]
  },
  {
   "cell_type": "code",
   "execution_count": 3,
   "metadata": {},
   "outputs": [
    {
     "output_type": "execute_result",
     "data": {
      "text/plain": "{'af': 'Afrikaans',\n 'sq': 'Albanian',\n 'ar': 'Arabic',\n 'hy': 'Armenian',\n 'bn': 'Bengali',\n 'bs': 'Bosnian',\n 'ca': 'Catalan',\n 'hr': 'Croatian',\n 'cs': 'Czech',\n 'da': 'Danish',\n 'nl': 'Dutch',\n 'en': 'English',\n 'eo': 'Esperanto',\n 'et': 'Estonian',\n 'tl': 'Filipino',\n 'fi': 'Finnish',\n 'fr': 'French',\n 'de': 'German',\n 'el': 'Greek',\n 'gu': 'Gujarati',\n 'hi': 'Hindi',\n 'hu': 'Hungarian',\n 'is': 'Icelandic',\n 'id': 'Indonesian',\n 'it': 'Italian',\n 'ja': 'Japanese',\n 'jw': 'Javanese',\n 'kn': 'Kannada',\n 'km': 'Khmer',\n 'ko': 'Korean',\n 'la': 'Latin',\n 'lv': 'Latvian',\n 'mk': 'Macedonian',\n 'ml': 'Malayalam',\n 'mr': 'Marathi',\n 'my': 'Myanmar (Burmese)',\n 'ne': 'Nepali',\n 'no': 'Norwegian',\n 'pl': 'Polish',\n 'pt': 'Portuguese',\n 'ro': 'Romanian',\n 'ru': 'Russian',\n 'sr': 'Serbian',\n 'si': 'Sinhala',\n 'sk': 'Slovak',\n 'es': 'Spanish',\n 'su': 'Sundanese',\n 'sw': 'Swahili',\n 'sv': 'Swedish',\n 'ta': 'Tamil',\n 'te': 'Telugu',\n 'th': 'Thai',\n 'tr': 'Turkish',\n 'uk': 'Ukrainian',\n 'ur': 'Urdu',\n 'vi': 'Vietnamese',\n 'cy': 'Welsh',\n 'zh-cn': 'Chinese (Mandarin/China)',\n 'zh-tw': 'Chinese (Mandarin/Taiwan)',\n 'en-us': 'English (US)',\n 'en-ca': 'English (Canada)',\n 'en-uk': 'English (UK)',\n 'en-gb': 'English (UK)',\n 'en-au': 'English (Australia)',\n 'en-gh': 'English (Ghana)',\n 'en-in': 'English (India)',\n 'en-ie': 'English (Ireland)',\n 'en-nz': 'English (New Zealand)',\n 'en-ng': 'English (Nigeria)',\n 'en-ph': 'English (Philippines)',\n 'en-za': 'English (South Africa)',\n 'en-tz': 'English (Tanzania)',\n 'fr-ca': 'French (Canada)',\n 'fr-fr': 'French (France)',\n 'pt-br': 'Portuguese (Brazil)',\n 'pt-pt': 'Portuguese (Portugal)',\n 'es-es': 'Spanish (Spain)',\n 'es-us': 'Spanish (United States)'}"
     },
     "metadata": {},
     "execution_count": 3
    }
   ],
   "source": [
    "gtts.lang.tts_langs(tld=\"com\")"
   ]
  },
  {
   "cell_type": "code",
   "execution_count": 11,
   "metadata": {},
   "outputs": [],
   "source": [
    "tts = gTTS('hello', lang='en')\n",
    "tts.save('speech.mp3')"
   ]
  },
  {
   "cell_type": "code",
   "execution_count": 5,
   "metadata": {},
   "outputs": [],
   "source": [
    "tts = gTTS('สวัสดีครับ', lang='th')\n",
    "tts.save('speech.mp3')"
   ]
  },
  {
   "cell_type": "code",
   "execution_count": 6,
   "metadata": {},
   "outputs": [],
   "source": [
    "tts = gTTS('ถึงม้วยดินสิ้นฟ้ามหาสมุทร ไม่สิ้นสุดความรักสมัครสมาน', lang='th')\n",
    "tts.save('speech.mp3')"
   ]
  },
  {
   "cell_type": "code",
   "execution_count": 12,
   "metadata": {},
   "outputs": [],
   "source": [
    "tts = gTTS('こんにちは', lang='ja')\n",
    "tts.save('speech.mp3')"
   ]
  },
  {
   "cell_type": "code",
   "execution_count": 8,
   "metadata": {},
   "outputs": [],
   "source": [
    "tts = gTTS('非常感谢你', lang='zh-cn')\n",
    "tts.save('speech.mp3')"
   ]
  },
  {
   "cell_type": "code",
   "execution_count": 9,
   "metadata": {},
   "outputs": [],
   "source": [
    "tts = gTTS('北，南，东，西', lang='zh-cn')\n",
    "tts.save('speech.mp3')"
   ]
  },
  {
   "cell_type": "code",
   "execution_count": 15,
   "metadata": {},
   "outputs": [
    {
     "output_type": "execute_result",
     "data": {
      "text/plain": "<IPython.lib.display.Audio object>",
      "text/html": "\n                <audio  controls=\"controls\" autoplay=\"autoplay\">\n                    <source src=\"data:audio/mpeg;base64,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\" type=\"audio/mpeg\" />\n                    Your browser does not support the audio element.\n                </audio>\n              "
     },
     "metadata": {},
     "execution_count": 15
    }
   ],
   "source": [
    "tts = gTTS('la vita è bella', lang='it')\n",
    "tts.save('speech_it.mp3')\n",
    "Audio('speech_it.mp3', autoplay= True)"
   ]
  },
  {
   "cell_type": "code",
   "execution_count": null,
   "metadata": {},
   "outputs": [],
   "source": []
  }
 ],
 "metadata": {
  "language_info": {
   "codemirror_mode": {
    "name": "ipython",
    "version": 3
   },
   "file_extension": ".py",
   "mimetype": "text/x-python",
   "name": "python",
   "nbconvert_exporter": "python",
   "pygments_lexer": "ipython3",
   "version": "3.7.7-final"
  },
  "orig_nbformat": 2,
  "kernelspec": {
   "name": "python3",
   "display_name": "Python 3"
  }
 },
 "nbformat": 4,
 "nbformat_minor": 2
}